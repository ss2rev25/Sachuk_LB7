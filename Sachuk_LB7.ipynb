{
  "nbformat": 4,
  "nbformat_minor": 0,
  "metadata": {
    "colab": {
      "provenance": []
    },
    "kernelspec": {
      "name": "python3",
      "display_name": "Python 3"
    },
    "language_info": {
      "name": "python"
    }
  },
  "cells": [
    {
      "cell_type": "markdown",
      "source": [
        "#ЛАБОРАТОРНА РОБОТА №7\n",
        "#Завдання 1."
      ],
      "metadata": {
        "id": "vMTLMJWcSgF0"
      }
    },
    {
      "cell_type": "code",
      "execution_count": null,
      "metadata": {
        "colab": {
          "base_uri": "https://localhost:8080/"
        },
        "id": "eDCxM7Q-M9I7",
        "outputId": "4d5ec3a4-f142-483d-8571-5f3f2b21ec18"
      },
      "outputs": [
        {
          "output_type": "stream",
          "name": "stdout",
          "text": [
            "Requirement already satisfied: scikit-surprise in /usr/local/lib/python3.10/dist-packages (1.1.4)\n",
            "Requirement already satisfied: joblib>=1.2.0 in /usr/local/lib/python3.10/dist-packages (from scikit-surprise) (1.4.2)\n",
            "Requirement already satisfied: numpy>=1.19.5 in /usr/local/lib/python3.10/dist-packages (from scikit-surprise) (1.26.4)\n",
            "Requirement already satisfied: scipy>=1.6.0 in /usr/local/lib/python3.10/dist-packages (from scikit-surprise) (1.13.1)\n",
            "  user item  rating  timestamp\n",
            "0  196  242     3.0  881250949\n",
            "1  186  302     3.0  891717742\n",
            "2   22  377     1.0  878887116\n",
            "3  244   51     2.0  880606923\n",
            "4  166  346     1.0  886397596\n"
          ]
        }
      ],
      "source": [
        "!pip install scikit-surprise\n",
        "from surprise import Dataset\n",
        "from surprise import Reader\n",
        "import pandas as pd\n",
        "\n",
        "# Завантаження датасету MovieLens 100k\n",
        "data = Dataset.load_builtin('ml-100k')\n",
        "\n",
        "# Створення pandas DataFrame для виводу перших 5 рядків\n",
        "df = pd.DataFrame(data.raw_ratings, columns=['user', 'item', 'rating', 'timestamp'])\n",
        "print(df.head(5))\n"
      ]
    },
    {
      "cell_type": "code",
      "source": [
        "from surprise import SVD, KNNBasic\n",
        "from surprise.model_selection import cross_validate\n",
        "\n",
        "# Алгоритм SVD\n",
        "algo_svd = SVD()\n",
        "# Алгоритм KNN\n",
        "algo_knn = KNNBasic()\n",
        "\n",
        "# Крос-валідація для SVD\n",
        "cv_svd = cross_validate(algo_svd, data, measures=['MAE'], cv=5, verbose=True)\n",
        "# Крос-валідація для KNN\n",
        "cv_knn = cross_validate(algo_knn, data, measures=['MAE'], cv=5, verbose=True)\n"
      ],
      "metadata": {
        "colab": {
          "base_uri": "https://localhost:8080/"
        },
        "id": "Wi0dSGHpN_ir",
        "outputId": "0d306de0-b7fb-4d79-8efa-6716451c4a46"
      },
      "execution_count": null,
      "outputs": [
        {
          "output_type": "stream",
          "name": "stdout",
          "text": [
            "Evaluating MAE of algorithm SVD on 5 split(s).\n",
            "\n",
            "                  Fold 1  Fold 2  Fold 3  Fold 4  Fold 5  Mean    Std     \n",
            "MAE (testset)     0.7365  0.7405  0.7372  0.7370  0.7341  0.7371  0.0020  \n",
            "Fit time          1.70    1.37    1.39    1.92    1.51    1.58    0.21    \n",
            "Test time         0.18    0.12    0.11    0.19    0.11    0.14    0.04    \n",
            "Computing the msd similarity matrix...\n",
            "Done computing similarity matrix.\n",
            "Computing the msd similarity matrix...\n",
            "Done computing similarity matrix.\n",
            "Computing the msd similarity matrix...\n",
            "Done computing similarity matrix.\n",
            "Computing the msd similarity matrix...\n",
            "Done computing similarity matrix.\n",
            "Computing the msd similarity matrix...\n",
            "Done computing similarity matrix.\n",
            "Evaluating MAE of algorithm KNNBasic on 5 split(s).\n",
            "\n",
            "                  Fold 1  Fold 2  Fold 3  Fold 4  Fold 5  Mean    Std     \n",
            "MAE (testset)     0.7774  0.7739  0.7693  0.7764  0.7693  0.7733  0.0034  \n",
            "Fit time          0.34    0.38    0.35    0.35    0.37    0.36    0.01    \n",
            "Test time         3.02    3.15    4.25    3.08    3.15    3.33    0.46    \n"
          ]
        }
      ]
    },
    {
      "cell_type": "code",
      "source": [
        "# Обчислення середнього значення MAE\n",
        "mae_svd = sum(cv_svd['test_mae']) / len(cv_svd['test_mae'])\n",
        "mae_knn = sum(cv_knn['test_mae']) / len(cv_knn['test_mae'])\n",
        "\n",
        "print(f\"MAE для SVD: {mae_svd}\")\n",
        "print(f\"MAE для KNN: {mae_knn}\")\n",
        "\n",
        "# Вибір найкращого алгоритму\n",
        "best_algo = algo_svd if mae_svd < mae_knn else algo_knn\n",
        "print(f\"Найкращий алгоритм: {'SVD' if best_algo == algo_svd else 'KNNBasic'}\")\n"
      ],
      "metadata": {
        "colab": {
          "base_uri": "https://localhost:8080/"
        },
        "id": "6hfSkc2fOL8N",
        "outputId": "e311e320-3158-41d0-97d0-cd283a8ae5c6"
      },
      "execution_count": null,
      "outputs": [
        {
          "output_type": "stream",
          "name": "stdout",
          "text": [
            "MAE для SVD: 0.7370619244695669\n",
            "MAE для KNN: 0.7732619532852764\n",
            "Найкращий алгоритм: SVD\n"
          ]
        }
      ]
    },
    {
      "cell_type": "code",
      "source": [
        "# Тренування найкращого алгоритму\n",
        "trainset = data.build_full_trainset()\n",
        "best_algo.fit(trainset)\n",
        "\n",
        "# Отримання рекомендацій для користувача (наприклад, користувач з ID 196)\n",
        "user_id = str(196)\n",
        "items = df['item'].unique()\n",
        "\n",
        "# Фільми, які користувач ще не оцінив\n",
        "items_to_rate = [item for item in items if not trainset.knows_item(item)]\n",
        "\n",
        "# Прогнозування рейтингів та сортування за значенням\n",
        "predictions = [best_algo.predict(user_id, item) for item in items_to_rate]\n",
        "recommendations = sorted(predictions, key=lambda x: x.est, reverse=True)[:10]\n",
        "\n",
        "# Виведення топ-10 рекомендацій\n",
        "print(\"Рекомендовані фільми для користувача 196:\")\n",
        "for rec in recommendations:\n",
        "    print(f\"Фільм ID: {rec.iid}, Прогнозований рейтинг: {rec.est}\")\n"
      ],
      "metadata": {
        "colab": {
          "base_uri": "https://localhost:8080/"
        },
        "id": "VFthcoXSO8PR",
        "outputId": "c71fff03-4ede-4a69-fb1e-7c1b33ac8f10"
      },
      "execution_count": null,
      "outputs": [
        {
          "output_type": "stream",
          "name": "stdout",
          "text": [
            "Рекомендовані фільми для користувача 196:\n",
            "Фільм ID: 127, Прогнозований рейтинг: 4.679716979466631\n",
            "Фільм ID: 408, Прогнозований рейтинг: 4.656020265713531\n",
            "Фільм ID: 64, Прогнозований рейтинг: 4.65585164490117\n",
            "Фільм ID: 50, Прогнозований рейтинг: 4.619729296095811\n",
            "Фільм ID: 318, Прогнозований рейтинг: 4.6096196513170025\n",
            "Фільм ID: 511, Прогнозований рейтинг: 4.577168455479542\n",
            "Фільм ID: 515, Прогнозований рейтинг: 4.542916570162102\n",
            "Фільм ID: 483, Прогнозований рейтинг: 4.533641256066035\n",
            "Фільм ID: 357, Прогнозований рейтинг: 4.52327326197612\n",
            "Фільм ID: 98, Прогнозований рейтинг: 4.523147032169898\n"
          ]
        }
      ]
    },
    {
      "cell_type": "markdown",
      "source": [
        "#Завдання 2."
      ],
      "metadata": {
        "id": "5BmiG913SMTe"
      }
    },
    {
      "cell_type": "code",
      "source": [
        "from collections import defaultdict\n",
        "\n",
        "# Функція для створення власної рекомендаційної системи\n",
        "def get_top_n(predictions, n=10):\n",
        "    top_n = defaultdict(list)\n",
        "    for uid, iid, true_r, est, _ in predictions:\n",
        "        top_n[uid].append((iid, est))\n",
        "\n",
        "    # Сортування прогнозів для кожного користувача та вибір топ-N\n",
        "    for uid, user_ratings in top_n.items():\n",
        "        user_ratings.sort(key=lambda x: x[1], reverse=True)\n",
        "        top_n[uid] = user_ratings[:n]\n",
        "\n",
        "    return top_n\n",
        "\n",
        "# Використання крос-валідації для отримання рекомендацій\n",
        "trainset = data.build_full_trainset()\n",
        "best_algo.fit(trainset)\n",
        "\n",
        "# Прогнозування для тестової вибірки\n",
        "testset = trainset.build_anti_testset()\n",
        "predictions = best_algo.test(testset)\n",
        "\n",
        "# Отримання топ-10 рекомендацій для всіх користувачів\n",
        "top_n = get_top_n(predictions, n=10)\n",
        "\n",
        "# Виведення рекомендацій для конкретного користувача (наприклад, користувач 196)\n",
        "print(f\"Рекомендації для користувача 196: {top_n['196']}\")\n"
      ],
      "metadata": {
        "colab": {
          "base_uri": "https://localhost:8080/"
        },
        "id": "bEtfNIELPNIa",
        "outputId": "9641b8f5-e3ac-46cb-9ed6-ecfe388ad780"
      },
      "execution_count": null,
      "outputs": [
        {
          "output_type": "stream",
          "name": "stdout",
          "text": [
            "Рекомендації для користувача 196: [('190', 4.604231887869725), ('223', 4.477210881399889), ('169', 4.476833336828952), ('318', 4.474242734193191), ('98', 4.450175275487304), ('64', 4.388061303399808), ('79', 4.371319590166469), ('647', 4.370901090573178), ('480', 4.364751191148627), ('603', 4.3625351144557065)]\n"
          ]
        }
      ]
    },
    {
      "cell_type": "markdown",
      "source": [
        "Висновок: Під час лабораторної роботи було досліджено два підходи до створення рекомендаційних систем: використання алгоритмів із бібліотеки Surprise та розробка власної рекомендаційної системи. Проаналізовано кілька алгоритмів, таких як SVD та KNN, з оцінкою їхньої точності за допомогою метрики MAE, і визначено найкращий варіант для використання. На основі цього алгоритму було створено рекомендації для конкретного користувача.\n",
        "\n"
      ],
      "metadata": {
        "id": "8UGha2cPPfEK"
      }
    }
  ]
}